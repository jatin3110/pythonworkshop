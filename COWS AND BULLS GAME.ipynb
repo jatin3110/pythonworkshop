{
 "cells": [
  {
   "cell_type": "markdown",
   "metadata": {},
   "source": [
    "# PYTHON MINI PROJECT "
   ]
  },
  {
   "cell_type": "markdown",
   "metadata": {},
   "source": [
    "*****"
   ]
  },
  {
   "cell_type": "markdown",
   "metadata": {},
   "source": [
    "## COWS AND BULLS PROBLEM"
   ]
  },
  {
   "cell_type": "markdown",
   "metadata": {},
   "source": [
    "______"   
   ]
  },
  {
   "cell_type": "markdown",
   "metadata": {},
   "source": [
    "*BY- JATIN GROVER 2K18CSUN01105 <br> MAHIKA GOYAL 2K18CSUN01112*"
   ]
  },
  {
   "cell_type": "markdown",
   "metadata": {},
   "source": [
    "### Question:\n",
    "Create a project that will play cows and bulls game with the user. The game works like this: <br>\n",
    "Randomly generate a four bdigit number. Ask the user to guess a four digit number. For every digit guessed correctly in correct place, they have a \"cow\". For every digit guessed correctly is a \"bull\". Every time the user makes a guess, tell them how many cows and bulls they have. Once the user guesses the correct number, the game is over. Keep the track of number of guesses user makes throughout the game and tell the user at the end. "
   ]
  },
  {
   "cell_type": "markdown",
   "metadata": {},
   "source": [
    "# code"
   ]
  },
  {
   "cell_type": "code",
   "execution_count": 2,
   "metadata": {},
   "outputs": [
    {
     "name": "stdout",
     "output_type": "stream",
     "text": [
      "please enter a four digit number8751\n",
      "bulls:  2\n",
      "cows:  0\n",
      "please enter a four digit number8000\n",
      "bulls:  0\n",
      "cows:  0\n",
      "please enter a four digit number7000\n",
      "bulls:  0\n",
      "cows:  0\n",
      "please enter a four digit number5000\n",
      "bulls:  0\n",
      "cows:  1\n",
      "please enter a four digit number5100\n",
      "bulls:  0\n",
      "cows:  2\n",
      "please enter a four digit number5143\n",
      "bulls:  0\n",
      "cows:  3\n",
      "please enter a four digit number5146\n",
      "bulls:  0\n",
      "cows:  4\n",
      "YOU WON AFTER  7  ATTEMPTS!!!\n"
     ]
    }
   ],
   "source": [
    "\n",
    "import random\n",
    "\n",
    "number = []\n",
    "attempts = 0\n",
    "\n",
    "def MakeNumber():\n",
    "    for i in range(4):\n",
    "        x=random.randrange(0,9)\n",
    "        number.append(x)\n",
    "    if len(number)>len(set(number)):\n",
    "        number.clear()\n",
    "        MakeNumber()\n",
    "    \n",
    "def PlayGame():\n",
    "    global attempts\n",
    "    if attempts == 0:\n",
    "        MakeNumber()\n",
    "    attempts += 1\n",
    "    cows = 0\n",
    "    bulls = 0\n",
    "#     print(number)\n",
    "    choice = input(\"please enter a four digit number\")\n",
    "    guess=[]\n",
    "    guess1=[]\n",
    "    for i in range(4):\n",
    "        guess.append(int(choice[i]))\n",
    "    for i in range(4):\n",
    "        if guess[i] == number[i] :\n",
    "           cows += 1\n",
    "        elif guess[i] != number[i] and guess[i] in number :\n",
    "            bulls += 1\n",
    "        else:\n",
    "            continue            \n",
    "    print(\"bulls: \",bulls)\n",
    "    print(\"cows: \",cows)\n",
    "    if (cows == 4):\n",
    "        print(\"YOU WON AFTER \",attempts,\" ATTEMPTS!!!\")\n",
    "    else:\n",
    "         PlayGame()\n",
    " \n",
    "\n",
    "PlayGame()\n"
   ]
  },
  {
   "cell_type": "markdown",
   "metadata": {},
   "source": [
    "******"
   ]
  },
  {
   "cell_type": "markdown",
   "metadata": {},
   "source": [
    "# THANKS FOR PLAYING THE GAME"
   ]
  }
 ],
 "metadata": {
  "kernelspec": {
   "display_name": "Python 3",
   "language": "python",
   "name": "python3"
  },
  "language_info": {
   "codemirror_mode": {
    "name": "ipython",
    "version": 3
   },
   "file_extension": ".py",
   "mimetype": "text/x-python",
   "name": "python",
   "nbconvert_exporter": "python",
   "pygments_lexer": "ipython3",
   "version": "3.7.6"
  }
 },
 "nbformat": 4,
 "nbformat_minor": 4
}
